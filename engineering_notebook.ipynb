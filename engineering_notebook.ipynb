{
 "cells": [
  {
   "cell_type": "markdown",
   "metadata": {},
   "source": [
    "# Introduction to Hidden Markov Models\n",
    "\n",
    "A Hidden Markov Model (HMM) is a statistical model that represents a system composed of a series of unobserved (hidden) states. These models are widely used in areas such as speech recognition, bioinformatics, and time series analysis (the one we will be doing).\n",
    "\n",
    "## Key Components\n",
    "\n",
    "An HMM is characterized by the following components:\n",
    "\n",
    "- **States**: A finite set of hidden states, usually denoted as $S = {s_1, s_2, \\ldots, s_N}$..\n",
    "- **Observations**: A sequence of observations, which are typically denoted as $O = {o_1, o_2, \\ldots, o_T}$, where each observation is related to a state.\n",
    "- **Transition Probabilities**: The probability of transitioning from one state to another, represented by the matrix $A = [a_{ij}]$, where $a_{ij}$ is the probability of moving from state $i$ to state $j$.\n",
    "- **Emission/Output Probabilities**: The probability of an observation being generated from a state, represented by the matrix  $B = [b_{ij}]$, where $b_{ij}$ is the probability of observing $o_j$ from state $i$.\n",
    "- **Initial State Probabilities**: The initial probability distribution across states, represented by the vector $\\pi = (\\pi_1, \\pi_2, \\ldots, \\pi_N)$, where $\\pi_i$, is the probability that the Markov chain will start in state  state $i$..\n",
    "\n",
    "## Basic Assumptions\n",
    "\n",
    "HMMs operate under two key assumptions:\n",
    "\n",
    "1. **Markov Assumption**: The probability of a state only depends on the immediate previous state.\n",
    "2. **Observation Independence**: The probability of an observation only depends on the state that produced the observation and not on any other states or observations.\n",
    "\n",
    "## How it works\n",
    "\n",
    "1. Given a sequence of observations $O = {o_1, o_2, \\ldots, o_T}$, we want to \n",
    "\n",
    "\n",
    "$\\text{Likelihood(Sequence)} = P(\\text{State}_1) \\times P(\\text{State}_2 | \\text{State}_1) \\times P(\\text{State}_3 | \\text{State}_1, \\text{State}_2) \\times \\ldots \\times P(\\text{State}_T | \\text{State}_1, \\text{State}_2, \\ldots, \\text{State}_{T-1})$\n",
    "\n",
    "\n",
    "\n",
    "\n"
   ]
  },
  {
   "cell_type": "code",
   "execution_count": null,
   "metadata": {},
   "outputs": [],
   "source": []
  }
 ],
 "metadata": {
  "language_info": {
   "name": "python"
  }
 },
 "nbformat": 4,
 "nbformat_minor": 2
}
